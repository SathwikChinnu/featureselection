{
 "cells": [
  {
   "cell_type": "markdown",
   "id": "94e9e781",
   "metadata": {
    "papermill": {
     "duration": 0.006588,
     "end_time": "2023-01-14T18:18:21.778626",
     "exception": false,
     "start_time": "2023-01-14T18:18:21.772038",
     "status": "completed"
    },
    "tags": []
   },
   "source": [
    "**This notebook is an exercise in the [Feature Engineering](https://www.kaggle.com/learn/feature-engineering) course.  You can reference the tutorial at [this link](https://www.kaggle.com/ryanholbrook/creating-features).**\n",
    "\n",
    "---\n"
   ]
  },
  {
   "cell_type": "markdown",
   "id": "fb8a34bb",
   "metadata": {
    "papermill": {
     "duration": 0.005032,
     "end_time": "2023-01-14T18:18:21.789127",
     "exception": false,
     "start_time": "2023-01-14T18:18:21.784095",
     "status": "completed"
    },
    "tags": []
   },
   "source": [
    "# Introduction #\n",
    "\n",
    "In this exercise you'll start developing the features you identified in Exercise 2 as having the most potential. As you work through this exercise, you might take a moment to look at the data documentation again and consider whether the features we're creating make sense from a real-world perspective, and whether there are any useful combinations that stand out to you.\n",
    "\n",
    "Run this cell to set everything up!"
   ]
  },
  {
   "cell_type": "code",
   "execution_count": 1,
   "id": "b1c7d752",
   "metadata": {
    "execution": {
     "iopub.execute_input": "2023-01-14T18:18:21.801589Z",
     "iopub.status.busy": "2023-01-14T18:18:21.801113Z",
     "iopub.status.idle": "2023-01-14T18:18:23.041557Z",
     "shell.execute_reply": "2023-01-14T18:18:23.040366Z"
    },
    "papermill": {
     "duration": 1.25015,
     "end_time": "2023-01-14T18:18:23.044498",
     "exception": false,
     "start_time": "2023-01-14T18:18:21.794348",
     "status": "completed"
    },
    "tags": []
   },
   "outputs": [],
   "source": [
    "# Setup feedback system\n",
    "from learntools.core import binder\n",
    "binder.bind(globals())\n",
    "from learntools.feature_engineering_new.ex3 import *\n",
    "\n",
    "import numpy as np\n",
    "import pandas as pd\n",
    "from sklearn.model_selection import cross_val_score\n",
    "from xgboost import XGBRegressor\n",
    "\n",
    "\n",
    "def score_dataset(X, y, model=XGBRegressor()):\n",
    "    # Label encoding for categoricals\n",
    "    for colname in X.select_dtypes([\"category\", \"object\"]):\n",
    "        X[colname], _ = X[colname].factorize()\n",
    "    # Metric for Housing competition is RMSLE (Root Mean Squared Log Error)\n",
    "    score = cross_val_score(\n",
    "        model, X, y, cv=5, scoring=\"neg_mean_squared_log_error\",\n",
    "    )\n",
    "    score = -1 * score.mean()\n",
    "    score = np.sqrt(score)\n",
    "    return score\n",
    "\n",
    "\n",
    "# Prepare data\n",
    "df = pd.read_csv(\"../input/fe-course-data/ames.csv\")\n",
    "X = df.copy()\n",
    "y = X.pop(\"SalePrice\")"
   ]
  },
  {
   "cell_type": "markdown",
   "id": "c7487cb8",
   "metadata": {
    "papermill": {
     "duration": 0.0054,
     "end_time": "2023-01-14T18:18:23.055797",
     "exception": false,
     "start_time": "2023-01-14T18:18:23.050397",
     "status": "completed"
    },
    "tags": []
   },
   "source": [
    "-------------------------------------------------------------------------------\n",
    "\n",
    "Let's start with a few mathematical combinations. We'll focus on features describing areas -- having the same units (square-feet) makes it easy to combine them in sensible ways. Since we're using XGBoost (a tree-based model), we'll focus on ratios and sums.\n",
    "\n",
    "# 1) Create Mathematical Transforms\n",
    "\n",
    "Create the following features:\n",
    "\n",
    "- `LivLotRatio`: the ratio of `GrLivArea` to `LotArea`\n",
    "- `Spaciousness`: the sum of `FirstFlrSF` and `SecondFlrSF` divided by `TotRmsAbvGrd`\n",
    "- `TotalOutsideSF`: the sum of `WoodDeckSF`, `OpenPorchSF`, `EnclosedPorch`, `Threeseasonporch`, and `ScreenPorch`"
   ]
  },
  {
   "cell_type": "code",
   "execution_count": 2,
   "id": "0ef43dd4",
   "metadata": {
    "execution": {
     "iopub.execute_input": "2023-01-14T18:18:23.068456Z",
     "iopub.status.busy": "2023-01-14T18:18:23.068032Z",
     "iopub.status.idle": "2023-01-14T18:18:23.094708Z",
     "shell.execute_reply": "2023-01-14T18:18:23.093567Z"
    },
    "lines_to_next_cell": 0,
    "papermill": {
     "duration": 0.036577,
     "end_time": "2023-01-14T18:18:23.097944",
     "exception": false,
     "start_time": "2023-01-14T18:18:23.061367",
     "status": "completed"
    },
    "tags": []
   },
   "outputs": [
    {
     "data": {
      "application/javascript": [
       "parent.postMessage({\"jupyterEvent\": \"custom.exercise_interaction\", \"data\": {\"outcomeType\": 1, \"valueTowardsCompletion\": 0.2, \"interactionType\": 1, \"questionType\": 2, \"questionId\": \"1_Q1\", \"learnToolsVersion\": \"0.3.4\", \"failureMessage\": \"\", \"exceptionClass\": \"\", \"trace\": \"\"}}, \"*\")"
      ],
      "text/plain": [
       "<IPython.core.display.Javascript object>"
      ]
     },
     "metadata": {},
     "output_type": "display_data"
    },
    {
     "data": {
      "text/markdown": [
       "<span style=\"color:#33cc33\">Correct</span>"
      ],
      "text/plain": [
       "Correct"
      ]
     },
     "metadata": {},
     "output_type": "display_data"
    }
   ],
   "source": [
    "# YOUR CODE HERE\n",
    "X_1 = pd.DataFrame()  # dataframe to hold new features\n",
    "\n",
    "X_1[\"LivLotRatio\"] =df.GrLivArea / df.LotArea\n",
    "X_1[\"Spaciousness\"] =(df.FirstFlrSF + df.SecondFlrSF) / df.TotRmsAbvGrd\n",
    "X_1[\"TotalOutsideSF\"] =df.WoodDeckSF + df.OpenPorchSF + df.EnclosedPorch + df.Threeseasonporch + df.ScreenPorch\n",
    "\n",
    "\n",
    "\n",
    "# Check your answer\n",
    "q_1.check()"
   ]
  },
  {
   "cell_type": "code",
   "execution_count": 3,
   "id": "c3b3a9dc",
   "metadata": {
    "execution": {
     "iopub.execute_input": "2023-01-14T18:18:23.111251Z",
     "iopub.status.busy": "2023-01-14T18:18:23.110849Z",
     "iopub.status.idle": "2023-01-14T18:18:23.115017Z",
     "shell.execute_reply": "2023-01-14T18:18:23.114030Z"
    },
    "lines_to_next_cell": 0,
    "papermill": {
     "duration": 0.01352,
     "end_time": "2023-01-14T18:18:23.117305",
     "exception": false,
     "start_time": "2023-01-14T18:18:23.103785",
     "status": "completed"
    },
    "tags": []
   },
   "outputs": [],
   "source": [
    "# Lines below will give you a hint or solution code\n",
    "#q_1.hint()\n",
    "#q_1.solution()"
   ]
  },
  {
   "cell_type": "markdown",
   "id": "0682bafa",
   "metadata": {
    "papermill": {
     "duration": 0.005296,
     "end_time": "2023-01-14T18:18:23.128175",
     "exception": false,
     "start_time": "2023-01-14T18:18:23.122879",
     "status": "completed"
    },
    "tags": []
   },
   "source": [
    "-------------------------------------------------------------------------------\n",
    "\n",
    "If you've discovered an interaction effect between a numeric feature and a categorical feature, you might want to model it explicitly using a one-hot encoding, like so:\n",
    "\n",
    "```\n",
    "# One-hot encode Categorical feature, adding a column prefix \"Cat\"\n",
    "X_new = pd.get_dummies(df.Categorical, prefix=\"Cat\")\n",
    "\n",
    "# Multiply row-by-row\n",
    "X_new = X_new.mul(df.Continuous, axis=0)\n",
    "\n",
    "# Join the new features to the feature set\n",
    "X = X.join(X_new)\n",
    "```\n",
    "\n",
    "# 2) Interaction with a Categorical\n",
    "\n",
    "We discovered an interaction between `BldgType` and `GrLivArea` in Exercise 2. Now create their interaction features."
   ]
  },
  {
   "cell_type": "code",
   "execution_count": 4,
   "id": "dd0b678d",
   "metadata": {
    "execution": {
     "iopub.execute_input": "2023-01-14T18:18:23.140952Z",
     "iopub.status.busy": "2023-01-14T18:18:23.140578Z",
     "iopub.status.idle": "2023-01-14T18:18:23.154592Z",
     "shell.execute_reply": "2023-01-14T18:18:23.153369Z"
    },
    "lines_to_next_cell": 0,
    "papermill": {
     "duration": 0.02329,
     "end_time": "2023-01-14T18:18:23.156941",
     "exception": false,
     "start_time": "2023-01-14T18:18:23.133651",
     "status": "completed"
    },
    "tags": []
   },
   "outputs": [
    {
     "data": {
      "application/javascript": [
       "parent.postMessage({\"jupyterEvent\": \"custom.exercise_interaction\", \"data\": {\"outcomeType\": 1, \"valueTowardsCompletion\": 0.2, \"interactionType\": 1, \"questionType\": 2, \"questionId\": \"2_Q2\", \"learnToolsVersion\": \"0.3.4\", \"failureMessage\": \"\", \"exceptionClass\": \"\", \"trace\": \"\"}}, \"*\")"
      ],
      "text/plain": [
       "<IPython.core.display.Javascript object>"
      ]
     },
     "metadata": {},
     "output_type": "display_data"
    },
    {
     "data": {
      "text/markdown": [
       "<span style=\"color:#33cc33\">Correct</span>"
      ],
      "text/plain": [
       "Correct"
      ]
     },
     "metadata": {},
     "output_type": "display_data"
    }
   ],
   "source": [
    "# YOUR CODE HERE\n",
    "# One-hot encode BldgType. Use `prefix=\"Bldg\"` in `get_dummies`\n",
    "X_2 =pd.get_dummies(df.BldgType, prefix=\"Bldg\")\n",
    "# Multiply\n",
    "X_2 =X_2.mul(df.GrLivArea, axis=0)\n",
    "\n",
    "\n",
    "# Check your answer\n",
    "q_2.check()"
   ]
  },
  {
   "cell_type": "code",
   "execution_count": 5,
   "id": "bba1167c",
   "metadata": {
    "execution": {
     "iopub.execute_input": "2023-01-14T18:18:23.172594Z",
     "iopub.status.busy": "2023-01-14T18:18:23.171836Z",
     "iopub.status.idle": "2023-01-14T18:18:23.176437Z",
     "shell.execute_reply": "2023-01-14T18:18:23.175419Z"
    },
    "lines_to_next_cell": 0,
    "papermill": {
     "duration": 0.013943,
     "end_time": "2023-01-14T18:18:23.178647",
     "exception": false,
     "start_time": "2023-01-14T18:18:23.164704",
     "status": "completed"
    },
    "tags": []
   },
   "outputs": [],
   "source": [
    "# Lines below will give you a hint or solution code\n",
    "#q_2.hint()\n",
    "#q_2.solution()"
   ]
  },
  {
   "cell_type": "markdown",
   "id": "70680c6a",
   "metadata": {
    "lines_to_next_cell": 0,
    "papermill": {
     "duration": 0.005829,
     "end_time": "2023-01-14T18:18:23.190446",
     "exception": false,
     "start_time": "2023-01-14T18:18:23.184617",
     "status": "completed"
    },
    "tags": []
   },
   "source": [
    "# 3) Count Feature\n",
    "\n",
    "Let's try creating a feature that describes how many kinds of outdoor areas a dwelling has. Create a feature `PorchTypes` that counts how many of the following are greater than 0.0:\n",
    "\n",
    "```\n",
    "WoodDeckSF\n",
    "OpenPorchSF\n",
    "EnclosedPorch\n",
    "Threeseasonporch\n",
    "ScreenPorch\n",
    "```"
   ]
  },
  {
   "cell_type": "code",
   "execution_count": 6,
   "id": "e37c8d90",
   "metadata": {
    "execution": {
     "iopub.execute_input": "2023-01-14T18:18:23.204305Z",
     "iopub.status.busy": "2023-01-14T18:18:23.203649Z",
     "iopub.status.idle": "2023-01-14T18:18:23.220839Z",
     "shell.execute_reply": "2023-01-14T18:18:23.219724Z"
    },
    "lines_to_next_cell": 0,
    "papermill": {
     "duration": 0.026627,
     "end_time": "2023-01-14T18:18:23.222951",
     "exception": false,
     "start_time": "2023-01-14T18:18:23.196324",
     "status": "completed"
    },
    "tags": []
   },
   "outputs": [
    {
     "data": {
      "application/javascript": [
       "parent.postMessage({\"jupyterEvent\": \"custom.exercise_interaction\", \"data\": {\"outcomeType\": 1, \"valueTowardsCompletion\": 0.2, \"interactionType\": 1, \"questionType\": 2, \"questionId\": \"3_Q3\", \"learnToolsVersion\": \"0.3.4\", \"failureMessage\": \"\", \"exceptionClass\": \"\", \"trace\": \"\"}}, \"*\")"
      ],
      "text/plain": [
       "<IPython.core.display.Javascript object>"
      ]
     },
     "metadata": {},
     "output_type": "display_data"
    },
    {
     "data": {
      "text/markdown": [
       "<span style=\"color:#33cc33\">Correct</span>"
      ],
      "text/plain": [
       "Correct"
      ]
     },
     "metadata": {},
     "output_type": "display_data"
    }
   ],
   "source": [
    "X_3 = pd.DataFrame()\n",
    "\n",
    "# YOUR CODE HERE\n",
    "X_3[\"PorchTypes\"] =df[[\"WoodDeckSF\",\"OpenPorchSF\",\"EnclosedPorch\",\"Threeseasonporch\",\"ScreenPorch\",]].gt(0.0).sum(axis=1)\n",
    "\n",
    "\n",
    "# Check your answer\n",
    "q_3.check()"
   ]
  },
  {
   "cell_type": "code",
   "execution_count": 7,
   "id": "156f3fe1",
   "metadata": {
    "execution": {
     "iopub.execute_input": "2023-01-14T18:18:23.237038Z",
     "iopub.status.busy": "2023-01-14T18:18:23.236456Z",
     "iopub.status.idle": "2023-01-14T18:18:23.240659Z",
     "shell.execute_reply": "2023-01-14T18:18:23.239921Z"
    },
    "lines_to_next_cell": 0,
    "papermill": {
     "duration": 0.013742,
     "end_time": "2023-01-14T18:18:23.242723",
     "exception": false,
     "start_time": "2023-01-14T18:18:23.228981",
     "status": "completed"
    },
    "tags": []
   },
   "outputs": [],
   "source": [
    "# Lines below will give you a hint or solution code\n",
    "#q_3.hint()\n",
    "#q_3.solution()"
   ]
  },
  {
   "cell_type": "markdown",
   "id": "2a47f3d8",
   "metadata": {
    "papermill": {
     "duration": 0.005769,
     "end_time": "2023-01-14T18:18:23.254344",
     "exception": false,
     "start_time": "2023-01-14T18:18:23.248575",
     "status": "completed"
    },
    "tags": []
   },
   "source": [
    "# 4) Break Down a Categorical Feature\n",
    "\n",
    "`MSSubClass` describes the type of a dwelling:"
   ]
  },
  {
   "cell_type": "code",
   "execution_count": 8,
   "id": "06b8f9ba",
   "metadata": {
    "execution": {
     "iopub.execute_input": "2023-01-14T18:18:23.268203Z",
     "iopub.status.busy": "2023-01-14T18:18:23.267576Z",
     "iopub.status.idle": "2023-01-14T18:18:23.275289Z",
     "shell.execute_reply": "2023-01-14T18:18:23.274261Z"
    },
    "papermill": {
     "duration": 0.017207,
     "end_time": "2023-01-14T18:18:23.277436",
     "exception": false,
     "start_time": "2023-01-14T18:18:23.260229",
     "status": "completed"
    },
    "tags": []
   },
   "outputs": [
    {
     "data": {
      "text/plain": [
       "array(['One_Story_1946_and_Newer_All_Styles', 'Two_Story_1946_and_Newer',\n",
       "       'One_Story_PUD_1946_and_Newer',\n",
       "       'One_and_Half_Story_Finished_All_Ages', 'Split_Foyer',\n",
       "       'Two_Story_PUD_1946_and_Newer', 'Split_or_Multilevel',\n",
       "       'One_Story_1945_and_Older', 'Duplex_All_Styles_and_Ages',\n",
       "       'Two_Family_conversion_All_Styles_and_Ages',\n",
       "       'One_and_Half_Story_Unfinished_All_Ages',\n",
       "       'Two_Story_1945_and_Older', 'Two_and_Half_Story_All_Ages',\n",
       "       'One_Story_with_Finished_Attic_All_Ages',\n",
       "       'PUD_Multilevel_Split_Level_Foyer',\n",
       "       'One_and_Half_Story_PUD_All_Ages'], dtype=object)"
      ]
     },
     "execution_count": 8,
     "metadata": {},
     "output_type": "execute_result"
    }
   ],
   "source": [
    "df.MSSubClass.unique()"
   ]
  },
  {
   "cell_type": "markdown",
   "id": "454c4715",
   "metadata": {
    "papermill": {
     "duration": 0.005691,
     "end_time": "2023-01-14T18:18:23.289412",
     "exception": false,
     "start_time": "2023-01-14T18:18:23.283721",
     "status": "completed"
    },
    "tags": []
   },
   "source": [
    "You can see that there is a more general categorization described (roughly) by the first word of each category. Create a feature containing only these first words by splitting `MSSubClass` at the first underscore `_`. (Hint: In the `split` method use an argument `n=1`.)"
   ]
  },
  {
   "cell_type": "code",
   "execution_count": 9,
   "id": "729e1d99",
   "metadata": {
    "execution": {
     "iopub.execute_input": "2023-01-14T18:18:23.303640Z",
     "iopub.status.busy": "2023-01-14T18:18:23.302983Z",
     "iopub.status.idle": "2023-01-14T18:18:23.327505Z",
     "shell.execute_reply": "2023-01-14T18:18:23.326510Z"
    },
    "lines_to_next_cell": 0,
    "papermill": {
     "duration": 0.034225,
     "end_time": "2023-01-14T18:18:23.329622",
     "exception": false,
     "start_time": "2023-01-14T18:18:23.295397",
     "status": "completed"
    },
    "tags": []
   },
   "outputs": [
    {
     "data": {
      "application/javascript": [
       "parent.postMessage({\"jupyterEvent\": \"custom.exercise_interaction\", \"data\": {\"outcomeType\": 1, \"valueTowardsCompletion\": 0.2, \"interactionType\": 1, \"questionType\": 2, \"questionId\": \"4_Q4\", \"learnToolsVersion\": \"0.3.4\", \"failureMessage\": \"\", \"exceptionClass\": \"\", \"trace\": \"\"}}, \"*\")"
      ],
      "text/plain": [
       "<IPython.core.display.Javascript object>"
      ]
     },
     "metadata": {},
     "output_type": "display_data"
    },
    {
     "data": {
      "text/markdown": [
       "<span style=\"color:#33cc33\">Correct</span>"
      ],
      "text/plain": [
       "Correct"
      ]
     },
     "metadata": {},
     "output_type": "display_data"
    }
   ],
   "source": [
    "X_4 = pd.DataFrame()\n",
    "\n",
    "# YOUR CODE HERE\n",
    "X_4[\"MSClass\"] = df.MSSubClass.str.split(\"_\", n=1, expand=True)[0]\n",
    "\n",
    "# Check your answer\n",
    "q_4.check()"
   ]
  },
  {
   "cell_type": "code",
   "execution_count": 10,
   "id": "9a910d52",
   "metadata": {
    "execution": {
     "iopub.execute_input": "2023-01-14T18:18:23.344252Z",
     "iopub.status.busy": "2023-01-14T18:18:23.343863Z",
     "iopub.status.idle": "2023-01-14T18:18:23.348088Z",
     "shell.execute_reply": "2023-01-14T18:18:23.346903Z"
    },
    "lines_to_next_cell": 0,
    "papermill": {
     "duration": 0.01409,
     "end_time": "2023-01-14T18:18:23.350154",
     "exception": false,
     "start_time": "2023-01-14T18:18:23.336064",
     "status": "completed"
    },
    "tags": []
   },
   "outputs": [],
   "source": [
    "# Lines below will give you a hint or solution code\n",
    "#q_4.hint()\n",
    "#q_4.solution()"
   ]
  },
  {
   "cell_type": "markdown",
   "id": "bdeb8cff",
   "metadata": {
    "papermill": {
     "duration": 0.006135,
     "end_time": "2023-01-14T18:18:23.362625",
     "exception": false,
     "start_time": "2023-01-14T18:18:23.356490",
     "status": "completed"
    },
    "tags": []
   },
   "source": [
    "# 5) Use a Grouped Transform\n",
    "\n",
    "The value of a home often depends on how it compares to typical homes in its neighborhood. Create a feature `MedNhbdArea` that describes the *median* of `GrLivArea` grouped on `Neighborhood`."
   ]
  },
  {
   "cell_type": "code",
   "execution_count": 11,
   "id": "faa8ccf4",
   "metadata": {
    "execution": {
     "iopub.execute_input": "2023-01-14T18:18:23.377593Z",
     "iopub.status.busy": "2023-01-14T18:18:23.376624Z",
     "iopub.status.idle": "2023-01-14T18:18:23.393736Z",
     "shell.execute_reply": "2023-01-14T18:18:23.392851Z"
    },
    "lines_to_next_cell": 0,
    "papermill": {
     "duration": 0.026876,
     "end_time": "2023-01-14T18:18:23.395816",
     "exception": false,
     "start_time": "2023-01-14T18:18:23.368940",
     "status": "completed"
    },
    "tags": []
   },
   "outputs": [
    {
     "data": {
      "application/javascript": [
       "parent.postMessage({\"jupyterEvent\": \"custom.exercise_interaction\", \"data\": {\"outcomeType\": 1, \"valueTowardsCompletion\": 0.2, \"interactionType\": 1, \"questionType\": 2, \"questionId\": \"5_Q5\", \"learnToolsVersion\": \"0.3.4\", \"failureMessage\": \"\", \"exceptionClass\": \"\", \"trace\": \"\"}}, \"*\")"
      ],
      "text/plain": [
       "<IPython.core.display.Javascript object>"
      ]
     },
     "metadata": {},
     "output_type": "display_data"
    },
    {
     "data": {
      "text/markdown": [
       "<span style=\"color:#33cc33\">Correct</span>"
      ],
      "text/plain": [
       "Correct"
      ]
     },
     "metadata": {},
     "output_type": "display_data"
    }
   ],
   "source": [
    "X_5 = pd.DataFrame()\n",
    "\n",
    "# YOUR CODE HERE\n",
    "X_5[\"MedNhbdArea\"] =df.groupby(\"Neighborhood\")[\"GrLivArea\"].transform(\"median\")\n",
    "\n",
    "# Check your answer\n",
    "q_5.check()"
   ]
  },
  {
   "cell_type": "code",
   "execution_count": 12,
   "id": "c6ac6e54",
   "metadata": {
    "execution": {
     "iopub.execute_input": "2023-01-14T18:18:23.411018Z",
     "iopub.status.busy": "2023-01-14T18:18:23.410420Z",
     "iopub.status.idle": "2023-01-14T18:18:23.414782Z",
     "shell.execute_reply": "2023-01-14T18:18:23.413981Z"
    },
    "lines_to_next_cell": 0,
    "papermill": {
     "duration": 0.014405,
     "end_time": "2023-01-14T18:18:23.416812",
     "exception": false,
     "start_time": "2023-01-14T18:18:23.402407",
     "status": "completed"
    },
    "tags": []
   },
   "outputs": [],
   "source": [
    "# Lines below will give you a hint or solution code\n",
    "#q_5.hint()\n",
    "#q_5.solution()"
   ]
  },
  {
   "cell_type": "markdown",
   "id": "d7a92ce3",
   "metadata": {
    "papermill": {
     "duration": 0.006317,
     "end_time": "2023-01-14T18:18:23.429611",
     "exception": false,
     "start_time": "2023-01-14T18:18:23.423294",
     "status": "completed"
    },
    "tags": []
   },
   "source": [
    "Now you've made your first new feature set! If you like, you can run the cell below to score the model with all of your new features added:"
   ]
  },
  {
   "cell_type": "code",
   "execution_count": 13,
   "id": "85e42b12",
   "metadata": {
    "execution": {
     "iopub.execute_input": "2023-01-14T18:18:23.445207Z",
     "iopub.status.busy": "2023-01-14T18:18:23.444558Z",
     "iopub.status.idle": "2023-01-14T18:18:28.149033Z",
     "shell.execute_reply": "2023-01-14T18:18:28.148103Z"
    },
    "papermill": {
     "duration": 4.715697,
     "end_time": "2023-01-14T18:18:28.151775",
     "exception": false,
     "start_time": "2023-01-14T18:18:23.436078",
     "status": "completed"
    },
    "tags": []
   },
   "outputs": [
    {
     "data": {
      "text/plain": [
       "0.13847331710099203"
      ]
     },
     "execution_count": 13,
     "metadata": {},
     "output_type": "execute_result"
    }
   ],
   "source": [
    "X_new = X.join([X_1, X_2, X_3, X_4, X_5])\n",
    "score_dataset(X_new, y)"
   ]
  },
  {
   "cell_type": "markdown",
   "id": "de2cca90",
   "metadata": {
    "papermill": {
     "duration": 0.006677,
     "end_time": "2023-01-14T18:18:28.166596",
     "exception": false,
     "start_time": "2023-01-14T18:18:28.159919",
     "status": "completed"
    },
    "tags": []
   },
   "source": [
    "# Keep Going #\n",
    "\n",
    "[**Untangle spatial relationships**](https://www.kaggle.com/ryanholbrook/clustering-with-k-means) by adding cluster labels to your dataset."
   ]
  },
  {
   "cell_type": "markdown",
   "id": "b0f12702",
   "metadata": {
    "papermill": {
     "duration": 0.006371,
     "end_time": "2023-01-14T18:18:28.179669",
     "exception": false,
     "start_time": "2023-01-14T18:18:28.173298",
     "status": "completed"
    },
    "tags": []
   },
   "source": [
    "---\n",
    "\n",
    "\n",
    "\n",
    "\n",
    "*Have questions or comments? Visit the [course discussion forum](https://www.kaggle.com/learn/feature-engineering/discussion) to chat with other learners.*"
   ]
  }
 ],
 "metadata": {
  "kernelspec": {
   "display_name": "Python 3",
   "language": "python",
   "name": "python3"
  },
  "language_info": {
   "codemirror_mode": {
    "name": "ipython",
    "version": 3
   },
   "file_extension": ".py",
   "mimetype": "text/x-python",
   "name": "python",
   "nbconvert_exporter": "python",
   "pygments_lexer": "ipython3",
   "version": "3.7.12"
  },
  "papermill": {
   "default_parameters": {},
   "duration": 16.486277,
   "end_time": "2023-01-14T18:18:28.908921",
   "environment_variables": {},
   "exception": null,
   "input_path": "__notebook__.ipynb",
   "output_path": "__notebook__.ipynb",
   "parameters": {},
   "start_time": "2023-01-14T18:18:12.422644",
   "version": "2.3.4"
  }
 },
 "nbformat": 4,
 "nbformat_minor": 5
}
